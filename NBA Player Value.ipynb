{
 "cells": [
  {
   "cell_type": "markdown",
   "metadata": {},
   "source": [
    "# NBA Player Value based on Win-Shares and Salary"
   ]
  },
  {
   "cell_type": "code",
   "execution_count": 1,
   "metadata": {},
   "outputs": [],
   "source": [
    "#import packages\n",
    "import requests\n",
    "import pandas as pd\n",
    "import numpy as np\n",
    "import matplotlib.pyplot as plt\n"
   ]
  },
  {
   "cell_type": "markdown",
   "metadata": {},
   "source": [
    "### Create df from web source"
   ]
  },
  {
   "cell_type": "code",
   "execution_count": 2,
   "metadata": {},
   "outputs": [
    {
     "name": "stdout",
     "output_type": "stream",
     "text": [
      "      Rk                  Player  Pos  Age   Tm   G    MP   PER   TS%   3PAr  \\\n",
      "0      1            Alex Abrines   SG   25  OKC  31   588   6.3  .507   .809   \n",
      "1      2              Quincy Acy   PF   28  PHO  10   123   2.9  .379   .833   \n",
      "2      3            Jaylen Adams   PG   22  ATL  23   251   9.0  .543   .754   \n",
      "3      4            Steven Adams    C   25  OKC  69  2323  18.8  .602   .001   \n",
      "4      5             Bam Adebayo    C   21  MIA  70  1582  17.5  .626   .026   \n",
      "5      6               Deng Adel   SF   21  CLE  15   181   1.4  .369   .636   \n",
      "6      7  DeVaughn Akoon-Purcell   SG   25  DEN   7    22   8.3  .322   .400   \n",
      "7      8       LaMarcus Aldridge    C   33  SAS  70  2306  22.7  .574   .030   \n",
      "8      9            Rawle Alkins   SG   21  CHI   3     6  37.9  .375   .250   \n",
      "9     10           Grayson Allen   SG   23  UTA  31   292   4.5  .459   .640   \n",
      "10    11           Jarrett Allen    C   20  BRK  70  1866  18.9  .633   .085   \n",
      "11    12            Kadeem Allen   SG   26  NYK  13   296  14.8  .572   .229   \n",
      "12    13         Al-Farouq Aminu   PF   28  POR  70  2011  13.1  .576   .487   \n",
      "13    14         Justin Anderson   SF   25  ATL  37   283   8.0  .456   .469   \n",
      "14    15           Kyle Anderson   SF   25  MEM  43  1281  12.8  .569   .123   \n",
      "15    16           Ryan Anderson   PF   30  TOT  21   304   4.5  .431   .576   \n",
      "16    16           Ryan Anderson   PF   30  PHO  15   278   4.6  .423   .567   \n",
      "17    16           Ryan Anderson   PF   30  MIA   6    26   4.1  .509   .667   \n",
      "18    17            Ike Anigbogu    C   20  IND   3     6  -6.0  .000   .000   \n",
      "19    18   Giannis Antetokounmpo   PF   24  MIL  65  2144  30.7  .643   .155   \n",
      "20    19         Carmelo Anthony   PF   34  HOU  10   294  11.0  .513   .529   \n",
      "21    20              OG Anunoby   SF   21  TOR  60  1231  10.0  .544   .500   \n",
      "22    Rk                  Player  Pos  Age   Tm   G    MP   PER   TS%   3PAr   \n",
      "23    21        Ryan Arcidiacono   PG   24  CHI  71  1731  11.1  .598   .577   \n",
      "24    22            Trevor Ariza   SF   33  TOT  67  2328  12.0  .532   .588   \n",
      "25    22            Trevor Ariza   SF   33  PHO  26   884  10.5  .525   .612   \n",
      "26    22            Trevor Ariza   SF   33  WAS  41  1444  12.9  .535   .577   \n",
      "27    23           D.J. Augustin   PG   31  ORL  70  1942  15.7  .624   .472   \n",
      "28    24           Deandre Ayton    C   20  PHO  66  2043  20.7  .608   .005   \n",
      "29    25            Dwayne Bacon   SG   23  CHO  30   391  10.9  .590   .298   \n",
      "..   ...                     ...  ...  ...  ...  ..   ...   ...   ...    ...   \n",
      "671  491       Russell Westbrook   PG   30  OKC  62  2218  20.8  .498   .269   \n",
      "672  492           Derrick White   PG   24  SAS  56  1443  15.3  .568   .258   \n",
      "673  493             Okaro White   PF   26  WAS   3     6  -4.5  .000  1.000   \n",
      "674  494        Hassan Whiteside    C   29  MIA  61  1483  22.7  .545   .026   \n",
      "675  495          Andrew Wiggins   SF   23  MIN  61  2115  11.8  .480   .287   \n",
      "676  496           Alan Williams   PF   26  BRK   4    22  32.9  .595   .100   \n",
      "677  497           C.J. Williams   SG   28  MIN  12    90   7.3  .500   .423   \n",
      "678  498      Johnathan Williams    C   23  LAL  13   183  12.1  .567   .000   \n",
      "679  499        Kenrich Williams   SF   24  NOP  37   820   9.2  .492   .558   \n",
      "680  500            Lou Williams   SG   32  LAC  65  1723  21.9  .558   .254   \n",
      "681   Rk                  Player  Pos  Age   Tm   G    MP   PER   TS%   3PAr   \n",
      "682  501         Marvin Williams   PF   32  CHO  67  1931  12.7  .547   .586   \n",
      "683  502         Robert Williams    C   21  BOS  28   232  20.0  .742   .000   \n",
      "684  503           Troy Williams   SF   24  SAC  18   286  11.1  .550   .471   \n",
      "685  504             D.J. Wilson   PF   22  MIL  36   600  10.3  .522   .524   \n",
      "686  505         Justise Winslow   PF   22  MIA  61  1814  13.2  .517   .339   \n",
      "687  506          Christian Wood   PF   23  MIL  13    62  17.2  .585   .200   \n",
      "688  507            Delon Wright   PG   26  TOT  63  1284  14.3  .517   .299   \n",
      "689  507            Delon Wright   PG   26  TOR  49   897  14.6  .527   .307   \n",
      "690  507            Delon Wright   PG   26  MEM  14   387  13.7  .494   .279   \n",
      "691  508      Guerschon Yabusele   PF   23  BOS  34   184  12.5  .515   .350   \n",
      "692  509              Nick Young   SG   33  DEN   4    37   2.4  .500   .889   \n",
      "693  510          Thaddeus Young   PF   30  IND  71  2189  16.1  .561   .170   \n",
      "694  511              Trae Young   PG   20  ATL  71  2181  16.1  .537   .384   \n",
      "695  512             Cody Zeller    C   26  CHO  49  1243  17.3  .611   .064   \n",
      "696  513            Tyler Zeller    C   29  ATL   2    11   1.5  .000   .500   \n",
      "697  514              Ante Zizic    C   22  CLE  51   936  15.3  .580   .000   \n",
      "698  515             Ivica Zubac    C   21  TOT  48   818  18.3  .581   .000   \n",
      "699  515             Ivica Zubac    C   21  LAL  33   516  19.6  .633   .000   \n",
      "700  515             Ivica Zubac    C   21  LAC  15   302  16.1  .496   .000   \n",
      "\n",
      "     ...  Unnamed: 19   OWS  DWS    WS   WS/48 Unnamed: 24   OBPM  DBPM  \\\n",
      "0    ...          NaN   0.1  0.6   0.7    .054         NaN   -2.4  -0.9   \n",
      "1    ...          NaN  -0.1  0.1   0.0  -0.018         NaN   -5.7  -0.2   \n",
      "2    ...          NaN   0.1  0.1   0.2    .043         NaN   -1.7  -2.2   \n",
      "3    ...          NaN   4.6  3.6   8.2    .169         NaN    0.7   2.1   \n",
      "4    ...          NaN   2.9  2.6   5.5    .168         NaN   -0.5   3.3   \n",
      "5    ...          NaN  -0.3  0.0  -0.3  -0.074         NaN   -6.0  -1.7   \n",
      "6    ...          NaN  -0.1  0.0   0.0  -0.046         NaN   -4.2   0.7   \n",
      "7    ...          NaN   5.3  2.3   7.7    .159         NaN    1.1   0.3   \n",
      "8    ...          NaN   0.0  0.0   0.0    .353         NaN   20.1   7.1   \n",
      "9    ...          NaN  -0.4  0.3  -0.2  -0.025         NaN   -4.5  -3.4   \n",
      "10   ...          NaN   4.1  2.9   7.0    .180         NaN   -0.4   3.2   \n",
      "11   ...          NaN   0.4  0.2   0.6    .096         NaN   -0.1  -1.8   \n",
      "12   ...          NaN   2.7  2.4   5.1    .123         NaN    0.2   1.0   \n",
      "13   ...          NaN  -0.3  0.2   0.0  -0.005         NaN   -4.6  -0.9   \n",
      "14   ...          NaN   0.8  1.9   2.8    .104         NaN   -2.1   3.4   \n",
      "15   ...          NaN  -0.2  0.0  -0.2  -0.034         NaN   -4.3  -2.1   \n",
      "16   ...          NaN  -0.2  0.0  -0.2  -0.035         NaN   -4.4  -2.0   \n",
      "17   ...          NaN   0.0  0.0   0.0  -0.019         NaN   -3.8  -3.2   \n",
      "18   ...          NaN  -0.1  0.0  -0.1  -0.478         NaN  -22.6   8.6   \n",
      "19   ...          NaN   8.0  5.0  13.0    .291         NaN    5.7   5.1   \n",
      "20   ...          NaN   0.1  0.2   0.3    .043         NaN   -3.0  -3.1   \n",
      "21   ...          NaN   0.4  1.4   1.9    .073         NaN   -1.1   0.0   \n",
      "22   ...          NaN   OWS  DWS    WS   WS/48         NaN   OBPM  DBPM   \n",
      "23   ...          NaN   2.4  0.8   3.2    .089         NaN    0.0  -0.9   \n",
      "24   ...          NaN   1.2  1.3   2.5    .052         NaN   -0.2  -0.3   \n",
      "25   ...          NaN   0.2  0.5   0.7    .039         NaN   -1.2   0.4   \n",
      "26   ...          NaN   1.0  0.8   1.8    .060         NaN    0.5  -0.6   \n",
      "27   ...          NaN   4.5  1.6   6.0    .149         NaN    1.8  -2.1   \n",
      "28   ...          NaN   4.1  1.7   5.8    .137         NaN    0.3   0.5   \n",
      "29   ...          NaN   0.4  0.2   0.6    .072         NaN   -1.9  -2.4   \n",
      "..   ...          ...   ...  ...   ...     ...         ...    ...   ...   \n",
      "671  ...          NaN   0.9  4.4   5.3    .114         NaN    2.1   4.1   \n",
      "672  ...          NaN   1.7  1.5   3.2    .106         NaN    0.3   1.0   \n",
      "673  ...          NaN   0.0  0.0   0.0  -0.251         NaN  -11.0  -8.3   \n",
      "674  ...          NaN   1.7  3.4   5.2    .167         NaN   -2.4   3.0   \n",
      "675  ...          NaN  -0.8  1.1   0.3    .006         NaN   -2.1  -1.3   \n",
      "676  ...          NaN   0.1  0.1   0.1    .325         NaN    3.6   3.7   \n",
      "677  ...          NaN   0.0  0.0   0.0    .017         NaN   -2.7  -3.3   \n",
      "678  ...          NaN   0.2  0.1   0.4    .094         NaN   -2.3  -1.0   \n",
      "679  ...          NaN   0.2  0.7   0.9    .052         NaN   -1.4   0.4   \n",
      "680  ...          NaN   3.8  1.0   4.8    .134         NaN    3.6  -2.6   \n",
      "681  ...          NaN   OWS  DWS    WS   WS/48         NaN   OBPM  DBPM   \n",
      "682  ...          NaN   1.8  1.8   3.6    .090         NaN    0.0   0.4   \n",
      "683  ...          NaN   0.5  0.5   1.0    .215         NaN   -1.6   6.7   \n",
      "684  ...          NaN   0.2  0.3   0.5    .080         NaN   -2.0   0.1   \n",
      "685  ...          NaN   0.2  1.0   1.2    .095         NaN   -2.5   1.0   \n",
      "686  ...          NaN   0.5  2.3   2.8    .075         NaN   -0.7   0.9   \n",
      "687  ...          NaN   0.1  0.1   0.2    .148         NaN   -3.3  -4.1   \n",
      "688  ...          NaN   1.2  1.7   3.0    .111         NaN   -0.6   1.1   \n",
      "689  ...          NaN   1.1  1.2   2.3    .123         NaN   -0.2   1.2   \n",
      "690  ...          NaN   0.2  0.5   0.7    .083         NaN   -1.8   1.1   \n",
      "691  ...          NaN   0.1  0.3   0.3    .085         NaN   -2.5   0.6   \n",
      "692  ...          NaN   0.0  0.0   0.0  -0.020         NaN   -4.2  -2.7   \n",
      "693  ...          NaN   2.6  3.6   6.2    .135         NaN    0.6   2.2   \n",
      "694  ...          NaN   1.7  0.7   2.4    .052         NaN    1.1  -2.8   \n",
      "695  ...          NaN   2.7  1.3   4.0    .153         NaN    0.3   1.8   \n",
      "696  ...          NaN   0.0  0.0   0.0  -0.012         NaN   -6.7  -0.4   \n",
      "697  ...          NaN   1.2  0.3   1.5    .078         NaN   -2.3  -1.6   \n",
      "698  ...          NaN   1.4  1.0   2.3    .137         NaN   -1.6   0.5   \n",
      "699  ...          NaN   1.2  0.6   1.8    .164         NaN   -1.2   0.1   \n",
      "700  ...          NaN   0.2  0.4   0.6    .091         NaN   -2.2   1.2   \n",
      "\n",
      "       BPM  VORP  \n",
      "0     -3.3  -0.2  \n",
      "1     -5.8  -0.1  \n",
      "2     -3.9  -0.1  \n",
      "3      2.8   2.8  \n",
      "4      2.8   1.9  \n",
      "5     -7.7  -0.3  \n",
      "6     -3.6   0.0  \n",
      "7      1.4   2.0  \n",
      "8     27.2   0.0  \n",
      "9     -7.9  -0.4  \n",
      "10     2.8   2.2  \n",
      "11    -1.9   0.0  \n",
      "12     1.2   1.6  \n",
      "13    -5.5  -0.3  \n",
      "14     1.4   1.1  \n",
      "15    -6.4  -0.3  \n",
      "16    -6.4  -0.3  \n",
      "17    -7.0   0.0  \n",
      "18   -13.9   0.0  \n",
      "19    10.8   6.9  \n",
      "20    -6.1  -0.3  \n",
      "21    -1.1   0.3  \n",
      "22     BPM  VORP  \n",
      "23    -1.0   0.5  \n",
      "24    -0.4   0.9  \n",
      "25    -0.8   0.3  \n",
      "26    -0.1   0.7  \n",
      "27    -0.3   0.9  \n",
      "28     0.8   1.4  \n",
      "29    -4.3  -0.2  \n",
      "..     ...   ...  \n",
      "671    6.1   4.5  \n",
      "672    1.2   1.2  \n",
      "673  -19.3   0.0  \n",
      "674    0.6   1.0  \n",
      "675   -3.4  -0.7  \n",
      "676    7.3   0.1  \n",
      "677   -6.0  -0.1  \n",
      "678   -3.3  -0.1  \n",
      "679   -1.0   0.2  \n",
      "680    0.9   1.3  \n",
      "681    BPM  VORP  \n",
      "682    0.4   1.2  \n",
      "683    5.1   0.4  \n",
      "684   -1.9   0.0  \n",
      "685   -1.5   0.1  \n",
      "686    0.1   1.0  \n",
      "687   -7.4  -0.1  \n",
      "688    0.5   0.8  \n",
      "689    1.0   0.7  \n",
      "690   -0.7   0.1  \n",
      "691   -1.9   0.0  \n",
      "692   -6.9   0.0  \n",
      "693    2.8   2.7  \n",
      "694   -1.7   0.2  \n",
      "695    2.1   1.3  \n",
      "696   -7.1   0.0  \n",
      "697   -3.8  -0.4  \n",
      "698   -1.0   0.2  \n",
      "699   -1.1   0.1  \n",
      "700   -1.0   0.1  \n",
      "\n",
      "[701 rows x 29 columns]\n"
     ]
    }
   ],
   "source": [
    "#Creating df from url ensures up to date information as site is updated daily\n",
    "url_stats = 'https://www.basketball-reference.com/leagues/NBA_2019_advanced.html'\n",
    "html_stats = requests.get(url_stats).content\n",
    "df_list_stats = pd.read_html(html_stats)\n",
    "df = df_list_stats[-1]\n",
    "df = pd.DataFrame(data = df)\n",
    "print(df)\n",
    "name_of_data_file = 'nba_player_stats.csv'\n",
    "#saves file to csv\n",
    "df.to_csv('nba_player_stats.csv')\n",
    "df = pd.read_csv('nba_player_stats.csv')\n",
    "\n"
   ]
  },
  {
   "cell_type": "code",
   "execution_count": 3,
   "metadata": {
    "scrolled": true
   },
   "outputs": [],
   "source": [
    "#create df from downloaded csv of NBA player stats\n",
    "#pulled data from Basketball-Reference.com\n",
    "\n",
    "#df = pd.read_csv('D:\\dudad\\Documents\\Data Science Career Track\\Data Wrangling for Capstone 1\\player_stats.csv')\n",
    "#print(df)\n"
   ]
  },
  {
   "cell_type": "code",
   "execution_count": 4,
   "metadata": {
    "scrolled": true
   },
   "outputs": [
    {
     "data": {
      "text/html": [
       "<div>\n",
       "<style scoped>\n",
       "    .dataframe tbody tr th:only-of-type {\n",
       "        vertical-align: middle;\n",
       "    }\n",
       "\n",
       "    .dataframe tbody tr th {\n",
       "        vertical-align: top;\n",
       "    }\n",
       "\n",
       "    .dataframe thead th {\n",
       "        text-align: right;\n",
       "    }\n",
       "</style>\n",
       "<table border=\"1\" class=\"dataframe\">\n",
       "  <thead>\n",
       "    <tr style=\"text-align: right;\">\n",
       "      <th></th>\n",
       "      <th>Unnamed: 0</th>\n",
       "      <th>Rk</th>\n",
       "      <th>Player</th>\n",
       "      <th>Pos</th>\n",
       "      <th>Age</th>\n",
       "      <th>Tm</th>\n",
       "      <th>G</th>\n",
       "      <th>MP</th>\n",
       "      <th>PER</th>\n",
       "      <th>TS%</th>\n",
       "      <th>...</th>\n",
       "      <th>Unnamed: 19</th>\n",
       "      <th>OWS</th>\n",
       "      <th>DWS</th>\n",
       "      <th>WS</th>\n",
       "      <th>WS/48</th>\n",
       "      <th>Unnamed: 24</th>\n",
       "      <th>OBPM</th>\n",
       "      <th>DBPM</th>\n",
       "      <th>BPM</th>\n",
       "      <th>VORP</th>\n",
       "    </tr>\n",
       "  </thead>\n",
       "  <tbody>\n",
       "    <tr>\n",
       "      <th>0</th>\n",
       "      <td>0</td>\n",
       "      <td>1</td>\n",
       "      <td>Alex Abrines</td>\n",
       "      <td>SG</td>\n",
       "      <td>25</td>\n",
       "      <td>OKC</td>\n",
       "      <td>31</td>\n",
       "      <td>588</td>\n",
       "      <td>6.3</td>\n",
       "      <td>.507</td>\n",
       "      <td>...</td>\n",
       "      <td>NaN</td>\n",
       "      <td>0.1</td>\n",
       "      <td>0.6</td>\n",
       "      <td>0.7</td>\n",
       "      <td>.055</td>\n",
       "      <td>NaN</td>\n",
       "      <td>-2.4</td>\n",
       "      <td>-0.8</td>\n",
       "      <td>-3.2</td>\n",
       "      <td>-0.2</td>\n",
       "    </tr>\n",
       "    <tr>\n",
       "      <th>1</th>\n",
       "      <td>1</td>\n",
       "      <td>2</td>\n",
       "      <td>Quincy Acy</td>\n",
       "      <td>PF</td>\n",
       "      <td>28</td>\n",
       "      <td>PHO</td>\n",
       "      <td>10</td>\n",
       "      <td>123</td>\n",
       "      <td>2.9</td>\n",
       "      <td>.379</td>\n",
       "      <td>...</td>\n",
       "      <td>NaN</td>\n",
       "      <td>-0.1</td>\n",
       "      <td>0.1</td>\n",
       "      <td>0.0</td>\n",
       "      <td>-0.018</td>\n",
       "      <td>NaN</td>\n",
       "      <td>-5.7</td>\n",
       "      <td>-0.1</td>\n",
       "      <td>-5.8</td>\n",
       "      <td>-0.1</td>\n",
       "    </tr>\n",
       "    <tr>\n",
       "      <th>2</th>\n",
       "      <td>2</td>\n",
       "      <td>3</td>\n",
       "      <td>Jaylen Adams</td>\n",
       "      <td>PG</td>\n",
       "      <td>22</td>\n",
       "      <td>ATL</td>\n",
       "      <td>23</td>\n",
       "      <td>251</td>\n",
       "      <td>9.0</td>\n",
       "      <td>.543</td>\n",
       "      <td>...</td>\n",
       "      <td>NaN</td>\n",
       "      <td>0.1</td>\n",
       "      <td>0.1</td>\n",
       "      <td>0.2</td>\n",
       "      <td>.043</td>\n",
       "      <td>NaN</td>\n",
       "      <td>-1.7</td>\n",
       "      <td>-2.2</td>\n",
       "      <td>-3.9</td>\n",
       "      <td>-0.1</td>\n",
       "    </tr>\n",
       "    <tr>\n",
       "      <th>3</th>\n",
       "      <td>3</td>\n",
       "      <td>4</td>\n",
       "      <td>Steven Adams</td>\n",
       "      <td>C</td>\n",
       "      <td>25</td>\n",
       "      <td>OKC</td>\n",
       "      <td>68</td>\n",
       "      <td>2298</td>\n",
       "      <td>18.7</td>\n",
       "      <td>.601</td>\n",
       "      <td>...</td>\n",
       "      <td>NaN</td>\n",
       "      <td>4.5</td>\n",
       "      <td>3.5</td>\n",
       "      <td>8.1</td>\n",
       "      <td>.168</td>\n",
       "      <td>NaN</td>\n",
       "      <td>0.7</td>\n",
       "      <td>2.1</td>\n",
       "      <td>2.8</td>\n",
       "      <td>2.8</td>\n",
       "    </tr>\n",
       "    <tr>\n",
       "      <th>4</th>\n",
       "      <td>4</td>\n",
       "      <td>5</td>\n",
       "      <td>Bam Adebayo</td>\n",
       "      <td>C</td>\n",
       "      <td>21</td>\n",
       "      <td>MIA</td>\n",
       "      <td>69</td>\n",
       "      <td>1553</td>\n",
       "      <td>17.6</td>\n",
       "      <td>.629</td>\n",
       "      <td>...</td>\n",
       "      <td>NaN</td>\n",
       "      <td>3.0</td>\n",
       "      <td>2.6</td>\n",
       "      <td>5.5</td>\n",
       "      <td>.172</td>\n",
       "      <td>NaN</td>\n",
       "      <td>-0.4</td>\n",
       "      <td>3.3</td>\n",
       "      <td>2.9</td>\n",
       "      <td>1.9</td>\n",
       "    </tr>\n",
       "  </tbody>\n",
       "</table>\n",
       "<p>5 rows × 30 columns</p>\n",
       "</div>"
      ],
      "text/plain": [
       "   Unnamed: 0 Rk        Player Pos Age   Tm   G    MP   PER   TS%  ...   \\\n",
       "0           0  1  Alex Abrines  SG  25  OKC  31   588   6.3  .507  ...    \n",
       "1           1  2    Quincy Acy  PF  28  PHO  10   123   2.9  .379  ...    \n",
       "2           2  3  Jaylen Adams  PG  22  ATL  23   251   9.0  .543  ...    \n",
       "3           3  4  Steven Adams   C  25  OKC  68  2298  18.7  .601  ...    \n",
       "4           4  5   Bam Adebayo   C  21  MIA  69  1553  17.6  .629  ...    \n",
       "\n",
       "  Unnamed: 19   OWS  DWS   WS   WS/48 Unnamed: 24  OBPM  DBPM   BPM  VORP  \n",
       "0         NaN   0.1  0.6  0.7    .055         NaN  -2.4  -0.8  -3.2  -0.2  \n",
       "1         NaN  -0.1  0.1  0.0  -0.018         NaN  -5.7  -0.1  -5.8  -0.1  \n",
       "2         NaN   0.1  0.1  0.2    .043         NaN  -1.7  -2.2  -3.9  -0.1  \n",
       "3         NaN   4.5  3.5  8.1    .168         NaN   0.7   2.1   2.8   2.8  \n",
       "4         NaN   3.0  2.6  5.5    .172         NaN  -0.4   3.3   2.9   1.9  \n",
       "\n",
       "[5 rows x 30 columns]"
      ]
     },
     "execution_count": 4,
     "metadata": {},
     "output_type": "execute_result"
    }
   ],
   "source": [
    "#examine the data\n",
    "#data is fairly clean directly from the source\n",
    "df.head()\n"
   ]
  },
  {
   "cell_type": "code",
   "execution_count": 5,
   "metadata": {},
   "outputs": [],
   "source": [
    "#remove unnamed columns from site used for formatting purposes\n",
    "df = df.drop(columns=['Unnamed: 19', 'Unnamed: 24'])"
   ]
  },
  {
   "cell_type": "code",
   "execution_count": 6,
   "metadata": {},
   "outputs": [
    {
     "data": {
      "text/plain": [
       "int64      1\n",
       "object    27\n",
       "dtype: int64"
      ]
     },
     "execution_count": 6,
     "metadata": {},
     "output_type": "execute_result"
    }
   ],
   "source": [
    "#understanding how data was initially interpreted\n",
    "df.get_dtype_counts()\n"
   ]
  },
  {
   "cell_type": "code",
   "execution_count": 7,
   "metadata": {},
   "outputs": [
    {
     "data": {
      "text/plain": [
       "Unnamed: 0     int64\n",
       "Rk            object\n",
       "Player        object\n",
       "Pos           object\n",
       "Age           object\n",
       "Tm            object\n",
       "G             object\n",
       "MP            object\n",
       "PER           object\n",
       "TS%           object\n",
       "3PAr          object\n",
       "FTr           object\n",
       "ORB%          object\n",
       "DRB%          object\n",
       "TRB%          object\n",
       "AST%          object\n",
       "STL%          object\n",
       "BLK%          object\n",
       "TOV%          object\n",
       "USG%          object\n",
       "OWS           object\n",
       "DWS           object\n",
       "WS            object\n",
       "WS/48         object\n",
       "OBPM          object\n",
       "DBPM          object\n",
       "BPM           object\n",
       "VORP          object\n",
       "dtype: object"
      ]
     },
     "execution_count": 7,
     "metadata": {},
     "output_type": "execute_result"
    }
   ],
   "source": [
    "df.dtypes"
   ]
  },
  {
   "cell_type": "code",
   "execution_count": 8,
   "metadata": {},
   "outputs": [
    {
     "name": "stdout",
     "output_type": "stream",
     "text": [
      "Unnamed: 0     int64\n",
      "Rk            object\n",
      "Player        object\n",
      "Pos           object\n",
      "Age           object\n",
      "Tm            object\n",
      "G             object\n",
      "MP            object\n",
      "PER           object\n",
      "TS%           object\n",
      "3PAr          object\n",
      "FTr           object\n",
      "ORB%          object\n",
      "DRB%          object\n",
      "TRB%          object\n",
      "AST%          object\n",
      "STL%          object\n",
      "BLK%          object\n",
      "TOV%          object\n",
      "USG%          object\n",
      "OWS           object\n",
      "DWS           object\n",
      "WS            object\n",
      "WS/48         object\n",
      "OBPM          object\n",
      "DBPM          object\n",
      "BPM           object\n",
      "VORP          object\n",
      "dtype: object\n"
     ]
    }
   ],
   "source": [
    "df['Player'] = df['Player'].astype(str)\n",
    "print(df.dtypes)"
   ]
  },
  {
   "cell_type": "markdown",
   "metadata": {},
   "source": [
    "## Breakdown of column names: "
   ]
  },
  {
   "cell_type": "code",
   "execution_count": 9,
   "metadata": {},
   "outputs": [
    {
     "data": {
      "text/plain": [
       "['Unnamed: 0',\n",
       " 'Rk',\n",
       " 'Player',\n",
       " 'Pos',\n",
       " 'Age',\n",
       " 'Tm',\n",
       " 'G',\n",
       " 'MP',\n",
       " 'PER',\n",
       " 'TS%',\n",
       " '3PAr',\n",
       " 'FTr',\n",
       " 'ORB%',\n",
       " 'DRB%',\n",
       " 'TRB%',\n",
       " 'AST%',\n",
       " 'STL%',\n",
       " 'BLK%',\n",
       " 'TOV%',\n",
       " 'USG%',\n",
       " 'OWS',\n",
       " 'DWS',\n",
       " 'WS',\n",
       " 'WS/48',\n",
       " 'OBPM',\n",
       " 'DBPM',\n",
       " 'BPM',\n",
       " 'VORP']"
      ]
     },
     "execution_count": 9,
     "metadata": {},
     "output_type": "execute_result"
    }
   ],
   "source": [
    "# Rank, Player Name, Position, Age, Team, Games, Minutes Played, Player Efficiency Rating,\n",
    "# True Shooting Percentage, 3-point attempt rate, Free Throw Attempt Rate, Offensive Rebound Percentage,\n",
    "# Defensive Rebound Percentage, Total Rebound Percentage, Assist Percentage, Steal Percentage, Block Percentage,\n",
    "# Turnover Percentage, Usage Percentage, Offensive Win Shares, Defensive Win Shares, Win Shares, Win Shares Per 48 minutes,\n",
    "# Offensive Box plus/minus, Defensive box plus/minus, Box plus/minus, Value over replacement player\n",
    "#full definition of all columns can be found at https://www.basketball-reference.com/leagues/NBA_2019_advanced.html\n",
    "list(df)"
   ]
  },
  {
   "cell_type": "code",
   "execution_count": 10,
   "metadata": {
    "scrolled": true
   },
   "outputs": [
    {
     "name": "stdout",
     "output_type": "stream",
     "text": [
      "Unnamed: 0    0\n",
      "Rk            0\n",
      "Player        0\n",
      "Pos           0\n",
      "Age           0\n",
      "Tm            0\n",
      "G             0\n",
      "MP            0\n",
      "PER           0\n",
      "TS%           6\n",
      "3PAr          8\n",
      "FTr           8\n",
      "ORB%          0\n",
      "DRB%          0\n",
      "TRB%          0\n",
      "AST%          0\n",
      "STL%          0\n",
      "BLK%          0\n",
      "TOV%          6\n",
      "USG%          0\n",
      "OWS           0\n",
      "DWS           0\n",
      "WS            0\n",
      "WS/48         0\n",
      "OBPM          0\n",
      "DBPM          0\n",
      "BPM           0\n",
      "VORP          0\n",
      "dtype: int64\n"
     ]
    }
   ],
   "source": [
    "# Total missing values for each feature\n",
    "print(df.isnull().sum())"
   ]
  },
  {
   "cell_type": "code",
   "execution_count": 11,
   "metadata": {},
   "outputs": [],
   "source": [
    "#changing data type of Player column in df\n",
    "df['Player'] = df['Player'].astype(str)"
   ]
  },
  {
   "cell_type": "code",
   "execution_count": 12,
   "metadata": {},
   "outputs": [
    {
     "name": "stdout",
     "output_type": "stream",
     "text": [
      "0                Alex Abrines\n",
      "1                  Quincy Acy\n",
      "2                Jaylen Adams\n",
      "3                Steven Adams\n",
      "4                 Bam Adebayo\n",
      "5                   Deng Adel\n",
      "6      DeVaughn Akoon-Purcell\n",
      "7           LaMarcus Aldridge\n",
      "8                Rawle Alkins\n",
      "9               Grayson Allen\n",
      "10              Jarrett Allen\n",
      "11               Kadeem Allen\n",
      "12            Al-Farouq Aminu\n",
      "13            Justin Anderson\n",
      "14              Kyle Anderson\n",
      "15              Ryan Anderson\n",
      "16              Ryan Anderson\n",
      "17              Ryan Anderson\n",
      "18               Ike Anigbogu\n",
      "19      Giannis Antetokounmpo\n",
      "20            Carmelo Anthony\n",
      "21                 OG Anunoby\n",
      "22                     Player\n",
      "23           Ryan Arcidiacono\n",
      "24               Trevor Ariza\n",
      "25               Trevor Ariza\n",
      "26               Trevor Ariza\n",
      "27              D.J. Augustin\n",
      "28              Deandre Ayton\n",
      "29               Dwayne Bacon\n",
      "                ...          \n",
      "670         Russell Westbrook\n",
      "671             Derrick White\n",
      "672               Okaro White\n",
      "673          Hassan Whiteside\n",
      "674            Andrew Wiggins\n",
      "675             Alan Williams\n",
      "676             C.J. Williams\n",
      "677        Johnathan Williams\n",
      "678          Kenrich Williams\n",
      "679              Lou Williams\n",
      "680           Marvin Williams\n",
      "681                    Player\n",
      "682           Robert Williams\n",
      "683             Troy Williams\n",
      "684               D.J. Wilson\n",
      "685           Justise Winslow\n",
      "686            Christian Wood\n",
      "687              Delon Wright\n",
      "688              Delon Wright\n",
      "689              Delon Wright\n",
      "690        Guerschon Yabusele\n",
      "691                Nick Young\n",
      "692            Thaddeus Young\n",
      "693                Trae Young\n",
      "694               Cody Zeller\n",
      "695              Tyler Zeller\n",
      "696                Ante Zizic\n",
      "697               Ivica Zubac\n",
      "698               Ivica Zubac\n",
      "699               Ivica Zubac\n",
      "Name: Player, Length: 700, dtype: object\n",
      "None\n"
     ]
    }
   ],
   "source": [
    "#check Player column data type\n",
    "print(print(df['Player']))"
   ]
  },
  {
   "cell_type": "markdown",
   "metadata": {},
   "source": [
    "## Create dataframe for player salary information from Basketball Reference"
   ]
  },
  {
   "cell_type": "markdown",
   "metadata": {},
   "source": [
    "### Pull data directly from website for freshness"
   ]
  },
  {
   "cell_type": "code",
   "execution_count": 13,
   "metadata": {},
   "outputs": [
    {
     "name": "stdout",
     "output_type": "stream",
     "text": [
      "    Unnamed: 0_level_0                   Salary Unnamed: 2_level_0  \\\n",
      "                    Rk                   Player                 Tm   \n",
      "0                    1            Stephen Curry                GSW   \n",
      "1                    2               Chris Paul                HOU   \n",
      "2                    3        Russell Westbrook                OKC   \n",
      "3                    4             LeBron James                LAL   \n",
      "4                    5            Blake Griffin                DET   \n",
      "5                    6           Gordon Hayward                BOS   \n",
      "6                    7               Kyle Lowry                TOR   \n",
      "7                    8              Paul George                OKC   \n",
      "8                    9              Mike Conley                MEM   \n",
      "9                   10             James Harden                HOU   \n",
      "10                  11             Kevin Durant                GSW   \n",
      "11                  12             Paul Millsap                DEN   \n",
      "12                  13               Al Horford                BOS   \n",
      "13                  14           Damian Lillard                POR   \n",
      "14                  15            DeMar DeRozan                SAS   \n",
      "15                  16               Chris Bosh                MIA   \n",
      "16                  17              Otto Porter                CHI   \n",
      "17                  18             Jrue Holiday                NOP   \n",
      "18                  19              CJ McCollum                POR   \n",
      "19                  20          Carmelo Anthony                ATL   \n",
      "20                 NaN                   Salary                NaN   \n",
      "21                  Rk                   Player                 Tm   \n",
      "22                  21           Andrew Wiggins                MIN   \n",
      "23                  22              Joel Embiid                PHI   \n",
      "24                  23             Bradley Beal                WAS   \n",
      "25                  24            Anthony Davis                NOP   \n",
      "26                  25           Andre Drummond                DET   \n",
      "27                  26         Hassan Whiteside                MIA   \n",
      "28                  27             Nikola Jokic                DEN   \n",
      "29                  28             Steven Adams                OKC   \n",
      "..                 ...                      ...                ...   \n",
      "577                526  Michael Carter-Williams                ORL   \n",
      "578                527            Isaiah Canaan                MIL   \n",
      "579                528         Cameron Reynolds                MIN   \n",
      "580                529              Mitch Creek                BRK   \n",
      "581                530             B.J. Johnson                ATL   \n",
      "582                531        Demetrius Jackson                BOS   \n",
      "583                532            Eric Moreland                TOR   \n",
      "584                533           Henry Ellenson                NYK   \n",
      "585                534              Gary Payton                WAS   \n",
      "586                535            Scotty Hopson                OKC   \n",
      "587                536            Charles Cooke                MIA   \n",
      "588                537             Andre Ingram                LAL   \n",
      "589                538             Kobi Simmons                CLE   \n",
      "590                539       Shaquille Harrison                PHO   \n",
      "591                540             Garlon Green                NOP   \n",
      "592                NaN                   Salary                NaN   \n",
      "593                 Rk                   Player                 Tm   \n",
      "594                541             Ray Spalding                PHO   \n",
      "595                542            Emanuel Terry                PHO   \n",
      "596                543          Richard Solomon                OKC   \n",
      "597                544            Emanuel Terry                MIA   \n",
      "598                545             Justin Bibbs                LAC   \n",
      "599                546            Stephan Hicks                IND   \n",
      "600                547            Chris Chiozza                HOU   \n",
      "601                548           Tahjere McCall                BRK   \n",
      "602                549            Jordan Sibert                ATL   \n",
      "603                550            Emanuel Terry                DEN   \n",
      "604                551            Troy Williams                NOP   \n",
      "605                552            Terry Larrier                DAL   \n",
      "606                553           Ding Yanyuhang                DAL   \n",
      "\n",
      "    Unnamed: 3_level_0 Unnamed: 4_level_0 Unnamed: 5_level_0  \\\n",
      "               2018-19            2019-20            2020-21   \n",
      "0          $37,457,154        $40,231,758        $43,006,362   \n",
      "1          $35,654,150        $38,506,482        $41,358,814   \n",
      "2          $35,654,150        $38,178,000        $41,006,000   \n",
      "3          $35,654,150        $37,436,858        $39,219,565   \n",
      "4          $32,088,932        $34,234,964        $36,595,996   \n",
      "5          $31,214,295        $32,700,690        $34,187,085   \n",
      "6          $31,200,000        $33,296,296                NaN   \n",
      "7          $30,560,700        $33,005,556        $35,450,412   \n",
      "8          $30,521,116        $32,511,623        $34,504,132   \n",
      "9          $30,431,854        $37,800,000        $40,824,000   \n",
      "10         $30,000,000        $31,500,000                NaN   \n",
      "11         $29,730,769        $30,500,000                NaN   \n",
      "12         $28,928,710        $30,123,015                NaN   \n",
      "13         $27,977,689        $29,802,321        $31,626,953   \n",
      "14         $27,739,975        $27,739,975        $27,739,975   \n",
      "15         $26,837,720                NaN                NaN   \n",
      "16         $26,011,913        $27,250,576        $28,489,239   \n",
      "17         $25,976,111        $26,131,111        $26,131,111   \n",
      "18         $25,759,766        $27,556,959        $29,354,152   \n",
      "19         $25,534,253                NaN                NaN   \n",
      "20                 NaN                NaN                NaN   \n",
      "21             2018-19            2019-20            2020-21   \n",
      "22         $25,467,250        $27,270,000        $29,290,000   \n",
      "23         $25,467,250        $27,270,000        $29,290,000   \n",
      "24         $25,434,263        $27,093,019        $28,751,775   \n",
      "25         $25,434,263        $27,093,019        $28,751,775   \n",
      "26         $25,434,263        $27,093,019        $28,751,775   \n",
      "27         $25,434,263        $27,093,018                NaN   \n",
      "28         $24,605,181        $26,573,595        $28,542,009   \n",
      "29         $24,157,304        $25,842,697        $27,528,090   \n",
      "..                 ...                ...                ...   \n",
      "577            $99,290                NaN                NaN   \n",
      "578            $99,290                NaN                NaN   \n",
      "579            $94,742                NaN                NaN   \n",
      "580            $94,742                NaN                NaN   \n",
      "581            $94,742                NaN                NaN   \n",
      "582            $92,857            $92,857            $92,857   \n",
      "583            $88,531                NaN                NaN   \n",
      "584            $85,458                NaN                NaN   \n",
      "585            $85,458                NaN                NaN   \n",
      "586            $85,458                NaN                NaN   \n",
      "587            $76,236                NaN                NaN   \n",
      "588            $76,236                NaN                NaN   \n",
      "589            $76,236                NaN                NaN   \n",
      "590            $50,000                NaN                NaN   \n",
      "591            $50,000                NaN                NaN   \n",
      "592                NaN                NaN                NaN   \n",
      "593            2018-19            2019-20            2020-21   \n",
      "594            $47,371                NaN                NaN   \n",
      "595            $47,371                NaN                NaN   \n",
      "596            $47,371                NaN                NaN   \n",
      "597            $47,371                NaN                NaN   \n",
      "598            $47,371                NaN                NaN   \n",
      "599            $47,371                NaN                NaN   \n",
      "600            $47,371                NaN                NaN   \n",
      "601            $47,371                NaN                NaN   \n",
      "602            $47,371                NaN                NaN   \n",
      "603            $35,000                NaN                NaN   \n",
      "604            $34,183                NaN                NaN   \n",
      "605             $6,000                NaN                NaN   \n",
      "606             $4,737                NaN                NaN   \n",
      "\n",
      "    Unnamed: 6_level_0 Unnamed: 7_level_0 Unnamed: 8_level_0  \\\n",
      "               2021-22            2022-23            2023-24   \n",
      "0          $45,780,966                NaN                NaN   \n",
      "1          $44,211,146                NaN                NaN   \n",
      "2          $43,848,000        $46,662,000                NaN   \n",
      "3          $41,002,273                NaN                NaN   \n",
      "4          $38,957,028                NaN                NaN   \n",
      "5                  NaN                NaN                NaN   \n",
      "6                  NaN                NaN                NaN   \n",
      "7          $37,895,268                NaN                NaN   \n",
      "8                  NaN                NaN                NaN   \n",
      "9          $43,848,000        $46,872,000                NaN   \n",
      "10                 NaN                NaN                NaN   \n",
      "11                 NaN                NaN                NaN   \n",
      "12                 NaN                NaN                NaN   \n",
      "13                 NaN                NaN                NaN   \n",
      "14                 NaN                NaN                NaN   \n",
      "15                 NaN                NaN                NaN   \n",
      "16                 NaN                NaN                NaN   \n",
      "17         $27,020,000                NaN                NaN   \n",
      "18                 NaN                NaN                NaN   \n",
      "19                 NaN                NaN                NaN   \n",
      "20                 NaN                NaN                NaN   \n",
      "21             2021-22            2022-23            2023-24   \n",
      "22         $31,310,000        $33,330,000                NaN   \n",
      "23         $31,310,000        $33,330,000                NaN   \n",
      "24                 NaN                NaN                NaN   \n",
      "25                 NaN                NaN                NaN   \n",
      "26                 NaN                NaN                NaN   \n",
      "27                 NaN                NaN                NaN   \n",
      "28         $30,510,423        $32,478,837                NaN   \n",
      "29                 NaN                NaN                NaN   \n",
      "..                 ...                ...                ...   \n",
      "577                NaN                NaN                NaN   \n",
      "578                NaN                NaN                NaN   \n",
      "579                NaN                NaN                NaN   \n",
      "580                NaN                NaN                NaN   \n",
      "581                NaN                NaN                NaN   \n",
      "582            $92,857            $92,857                NaN   \n",
      "583                NaN                NaN                NaN   \n",
      "584                NaN                NaN                NaN   \n",
      "585                NaN                NaN                NaN   \n",
      "586                NaN                NaN                NaN   \n",
      "587                NaN                NaN                NaN   \n",
      "588                NaN                NaN                NaN   \n",
      "589                NaN                NaN                NaN   \n",
      "590                NaN                NaN                NaN   \n",
      "591                NaN                NaN                NaN   \n",
      "592                NaN                NaN                NaN   \n",
      "593            2021-22            2022-23            2023-24   \n",
      "594                NaN                NaN                NaN   \n",
      "595                NaN                NaN                NaN   \n",
      "596                NaN                NaN                NaN   \n",
      "597                NaN                NaN                NaN   \n",
      "598                NaN                NaN                NaN   \n",
      "599                NaN                NaN                NaN   \n",
      "600                NaN                NaN                NaN   \n",
      "601                NaN                NaN                NaN   \n",
      "602                NaN                NaN                NaN   \n",
      "603                NaN                NaN                NaN   \n",
      "604                NaN                NaN                NaN   \n",
      "605                NaN                NaN                NaN   \n",
      "606                NaN                NaN                NaN   \n",
      "\n",
      "    Unnamed: 9_level_0 Unnamed: 10_level_0  \n",
      "          Signed Using          Guaranteed  \n",
      "0          Bird Rights        $166,476,240  \n",
      "1                  NaN        $159,730,592  \n",
      "2          Bird Rights        $158,686,150  \n",
      "3                  NaN        $113,310,573  \n",
      "4          Bird Rights        $102,919,892  \n",
      "5            Cap space         $63,914,985  \n",
      "6          Bird Rights         $64,496,296  \n",
      "7       Maximum Salary         $99,016,668  \n",
      "8            Cap Space         $85,459,122  \n",
      "9          Bird Rights        $152,903,854  \n",
      "10                 NaN         $30,000,000  \n",
      "11           Cap space         $29,730,769  \n",
      "12           Cap Space         $28,928,710  \n",
      "13      1st Round Pick         $89,406,963  \n",
      "14           Cap Space         $55,479,950  \n",
      "15                 NaN         $26,837,720  \n",
      "16         Bird Rights         $53,262,489  \n",
      "17         Bird Rights         $78,238,333  \n",
      "18      1st Round Pick         $82,670,877  \n",
      "19                 NaN         $25,534,253  \n",
      "20                 NaN                 NaN  \n",
      "21        Signed Using          Guaranteed  \n",
      "22      1st Round Pick        $146,667,250  \n",
      "23      1st Round Pick         $25,467,250  \n",
      "24           Cap Space         $81,279,057  \n",
      "25      1st Round Pick         $52,527,282  \n",
      "26           Cap Space         $52,527,282  \n",
      "27           Cap Space         $25,434,263  \n",
      "28                 NaN        $142,710,045  \n",
      "29      1st Round Pick         $77,528,091  \n",
      "..                 ...                 ...  \n",
      "577    10-Day Contract             $99,290  \n",
      "578                NaN             $99,290  \n",
      "579    10-Day Contract             $94,742  \n",
      "580                NaN             $94,742  \n",
      "581    10-Day Contract             $94,742  \n",
      "582                NaN            $557,142  \n",
      "583    10-Day Contract             $88,531  \n",
      "584                NaN            $427,289  \n",
      "585                NaN             $85,458  \n",
      "586                NaN             $85,458  \n",
      "587    10-Day Contract             $76,236  \n",
      "588    10-Day Contract             $76,236  \n",
      "589                NaN             $76,236  \n",
      "590                NaN             $50,000  \n",
      "591                NaN             $50,000  \n",
      "592                NaN                 NaN  \n",
      "593       Signed Using          Guaranteed  \n",
      "594                NaN            $232,117  \n",
      "595                NaN             $47,371  \n",
      "596                NaN             $47,371  \n",
      "597                NaN             $47,371  \n",
      "598    10-Day Contract             $47,371  \n",
      "599                NaN             $47,371  \n",
      "600                NaN             $47,371  \n",
      "601                NaN             $47,371  \n",
      "602                NaN             $47,371  \n",
      "603                NaN             $35,000  \n",
      "604                NaN             $34,183  \n",
      "605                NaN              $6,000  \n",
      "606                NaN              $4,737  \n",
      "\n",
      "[607 rows x 11 columns]\n"
     ]
    }
   ],
   "source": [
    "url_salary = 'https://www.basketball-reference.com/contracts/players.html'\n",
    "html_salary = requests.get(url_salary).content\n",
    "df_list_salary = pd.read_html(html_salary)\n",
    "df_salary = df_list_salary[-1]\n",
    "print(df_salary)\n",
    "#saves file to csv for offline use\n",
    "df.to_csv('nba_player_contracts.csv')\n",
    "df_salary = pd.read_csv('nba_player_contracts.csv')"
   ]
  },
  {
   "cell_type": "code",
   "execution_count": 14,
   "metadata": {},
   "outputs": [
    {
     "ename": "AttributeError",
     "evalue": "'Index' object has no attribute 'droplevel'",
     "output_type": "error",
     "traceback": [
      "\u001b[1;31m---------------------------------------------------------------------------\u001b[0m",
      "\u001b[1;31mAttributeError\u001b[0m                            Traceback (most recent call last)",
      "\u001b[1;32m<ipython-input-14-066d7a5f46be>\u001b[0m in \u001b[0;36m<module>\u001b[1;34m\u001b[0m\n\u001b[0;32m      1\u001b[0m \u001b[1;31m#remove first row from table as this is a title row, not column names\u001b[0m\u001b[1;33m\u001b[0m\u001b[1;33m\u001b[0m\u001b[1;33m\u001b[0m\u001b[0m\n\u001b[1;32m----> 2\u001b[1;33m \u001b[0mdf_salary\u001b[0m\u001b[1;33m.\u001b[0m\u001b[0mcolumns\u001b[0m \u001b[1;33m=\u001b[0m \u001b[0mdf_salary\u001b[0m\u001b[1;33m.\u001b[0m\u001b[0mcolumns\u001b[0m\u001b[1;33m.\u001b[0m\u001b[0mdroplevel\u001b[0m\u001b[1;33m(\u001b[0m\u001b[1;36m0\u001b[0m\u001b[1;33m)\u001b[0m\u001b[1;33m\u001b[0m\u001b[1;33m\u001b[0m\u001b[0m\n\u001b[0m\u001b[0;32m      3\u001b[0m \u001b[0mprint\u001b[0m\u001b[1;33m(\u001b[0m\u001b[0mdf_salary\u001b[0m\u001b[1;33m)\u001b[0m\u001b[1;33m\u001b[0m\u001b[1;33m\u001b[0m\u001b[0m\n",
      "\u001b[1;31mAttributeError\u001b[0m: 'Index' object has no attribute 'droplevel'"
     ]
    }
   ],
   "source": [
    "#remove first row from table as this is a title row, not column names\n",
    "df_salary.columns = df_salary.columns.droplevel(0)\n",
    "print(df_salary)"
   ]
  },
  {
   "cell_type": "code",
   "execution_count": null,
   "metadata": {},
   "outputs": [],
   "source": [
    "#remove rows that are utilized as continued header row\n",
    "df.drop(df.index[22], inplace = True)\n",
    "print(df)"
   ]
  },
  {
   "cell_type": "code",
   "execution_count": null,
   "metadata": {},
   "outputs": [],
   "source": [
    "#create df_salary from nba player salaries data from Basketball Reference\n",
    "#df_salary = pd.read_csv('D:\\dudad\\Documents\\Data Science Career Track\\Data Wrangling for Capstone 1\\player_salary.csv')\n",
    "#print(df_salary)"
   ]
  },
  {
   "cell_type": "code",
   "execution_count": null,
   "metadata": {},
   "outputs": [],
   "source": [
    "df_salary.head()"
   ]
  },
  {
   "cell_type": "code",
   "execution_count": null,
   "metadata": {},
   "outputs": [],
   "source": [
    "# Total missing values for each feature\n",
    "print(df_salary.isnull().sum())"
   ]
  },
  {
   "cell_type": "code",
   "execution_count": null,
   "metadata": {},
   "outputs": [],
   "source": [
    "cols_stats = list(df.columns)"
   ]
  },
  {
   "cell_type": "code",
   "execution_count": null,
   "metadata": {},
   "outputs": [],
   "source": [
    "print(cols_stats)\n"
   ]
  },
  {
   "cell_type": "code",
   "execution_count": null,
   "metadata": {},
   "outputs": [],
   "source": [
    "cols_salary = list(df_salary.columns)"
   ]
  },
  {
   "cell_type": "code",
   "execution_count": null,
   "metadata": {},
   "outputs": [],
   "source": [
    "print(cols_salary)\n"
   ]
  },
  {
   "cell_type": "markdown",
   "metadata": {},
   "source": [
    "## Converting columns to correct datatype for future analysis"
   ]
  },
  {
   "cell_type": "code",
   "execution_count": null,
   "metadata": {},
   "outputs": [],
   "source": [
    "#df column data is not correct type\n",
    "print(type(df['WS']))"
   ]
  },
  {
   "cell_type": "code",
   "execution_count": null,
   "metadata": {},
   "outputs": [],
   "source": [
    "#found another header row at row 48, removing\n",
    "df.drop(df.index[48], inplace = True)\n",
    "print(df)"
   ]
  },
  {
   "cell_type": "code",
   "execution_count": null,
   "metadata": {},
   "outputs": [],
   "source": [
    "#found another header row at row 70, removing\n",
    "df.drop(df.index[70], inplace = True)\n",
    "print(df)"
   ]
  },
  {
   "cell_type": "code",
   "execution_count": null,
   "metadata": {},
   "outputs": [],
   "source": [
    "#found another header row at row 99, removing\n",
    "df.drop(df.index[99], inplace = True)\n"
   ]
  },
  {
   "cell_type": "code",
   "execution_count": null,
   "metadata": {},
   "outputs": [],
   "source": [
    "#found another header row at row 128, removing\n",
    "df.drop(df.index[128], inplace = True)"
   ]
  },
  {
   "cell_type": "code",
   "execution_count": null,
   "metadata": {},
   "outputs": [],
   "source": [
    "#found another header row at row 150, removing\n",
    "df.drop(df.index[150], inplace = True)"
   ]
  },
  {
   "cell_type": "code",
   "execution_count": null,
   "metadata": {},
   "outputs": [],
   "source": [
    "#found another header row at row 176, removing\n",
    "df.drop(df.index[176], inplace = True)"
   ]
  },
  {
   "cell_type": "code",
   "execution_count": null,
   "metadata": {},
   "outputs": [],
   "source": [
    "#found another header row at row 204, removing\n",
    "df.drop(df.index[204], inplace = True)"
   ]
  },
  {
   "cell_type": "code",
   "execution_count": null,
   "metadata": {},
   "outputs": [],
   "source": [
    "#found another header row at row 228, removing\n",
    "df.drop(df.index[228], inplace = True)"
   ]
  },
  {
   "cell_type": "code",
   "execution_count": null,
   "metadata": {},
   "outputs": [],
   "source": [
    "#found another header row at row 252, removing\n",
    "df.drop(df.index[252], inplace = True)"
   ]
  },
  {
   "cell_type": "code",
   "execution_count": null,
   "metadata": {},
   "outputs": [],
   "source": [
    "#found another header row at row 279, removing\n",
    "df.drop(df.index[279], inplace = True)"
   ]
  },
  {
   "cell_type": "code",
   "execution_count": null,
   "metadata": {},
   "outputs": [],
   "source": [
    "#found another header row at row 303, removing\n",
    "df.drop(df.index[303], inplace = True)"
   ]
  },
  {
   "cell_type": "code",
   "execution_count": null,
   "metadata": {},
   "outputs": [],
   "source": [
    "#found another header row at row 333, removing\n",
    "df.drop(df.index[333], inplace = True)"
   ]
  },
  {
   "cell_type": "code",
   "execution_count": null,
   "metadata": {},
   "outputs": [],
   "source": [
    "#found another header row at row 363, removing\n",
    "df.drop(df.index[363], inplace = True)"
   ]
  },
  {
   "cell_type": "code",
   "execution_count": null,
   "metadata": {},
   "outputs": [],
   "source": [
    "#found another header row at row 387, removing\n",
    "df.drop(df.index[387], inplace = True)"
   ]
  },
  {
   "cell_type": "code",
   "execution_count": null,
   "metadata": {},
   "outputs": [],
   "source": [
    "#found another header row at row 420, removing\n",
    "df.drop(df.index[420], inplace = True)"
   ]
  },
  {
   "cell_type": "code",
   "execution_count": null,
   "metadata": {},
   "outputs": [],
   "source": [
    "#found another header row at row 444, removing\n",
    "df.drop(df.index[444], inplace = True)"
   ]
  },
  {
   "cell_type": "code",
   "execution_count": null,
   "metadata": {},
   "outputs": [],
   "source": [
    "#found another header row at row 470, removing\n",
    "df.drop(df.index[470], inplace = True)"
   ]
  },
  {
   "cell_type": "code",
   "execution_count": null,
   "metadata": {},
   "outputs": [],
   "source": [
    "#found another header row at row 496, removing\n",
    "df.drop(df.index[496], inplace = True)"
   ]
  },
  {
   "cell_type": "code",
   "execution_count": null,
   "metadata": {},
   "outputs": [],
   "source": [
    "#found another header row at row 522, removing\n",
    "df.drop(df.index[522], inplace = True)"
   ]
  },
  {
   "cell_type": "code",
   "execution_count": null,
   "metadata": {},
   "outputs": [],
   "source": [
    "#found another header row at row 546, removing\n",
    "df.drop(df.index[546], inplace = True)"
   ]
  },
  {
   "cell_type": "code",
   "execution_count": null,
   "metadata": {},
   "outputs": [],
   "source": [
    "#found another header row at row 580, removing\n",
    "df.drop(df.index[580], inplace = True)"
   ]
  },
  {
   "cell_type": "code",
   "execution_count": null,
   "metadata": {},
   "outputs": [],
   "source": [
    "#found another header row at row 606, removing\n",
    "df.drop(df.index[606], inplace = True)"
   ]
  },
  {
   "cell_type": "code",
   "execution_count": null,
   "metadata": {},
   "outputs": [],
   "source": [
    "#found another header row at row 628, removing\n",
    "df.drop(df.index[628], inplace = True)"
   ]
  },
  {
   "cell_type": "code",
   "execution_count": null,
   "metadata": {},
   "outputs": [],
   "source": [
    "#found another header row at row 648, removing\n",
    "df.drop(df.index[648], inplace = True)"
   ]
  },
  {
   "cell_type": "code",
   "execution_count": null,
   "metadata": {},
   "outputs": [],
   "source": [
    "#view df after removing header rows throughout df\n",
    "print(df)"
   ]
  },
  {
   "cell_type": "code",
   "execution_count": null,
   "metadata": {},
   "outputs": [],
   "source": [
    "print(df.isnull().sum())"
   ]
  },
  {
   "cell_type": "code",
   "execution_count": null,
   "metadata": {},
   "outputs": [],
   "source": [
    "#change necessary columns to correct type\n",
    "df[[\"Age\",\"G\",\"MP\", \"PER\", \"TS%\", \"3PAr\", \"FTr\", \"ORB%\", \"DRB%\", \"TRB%\", \"AST%\", \"STL%\", \"BLK%\", \"TOV%\", \"USG%\", \n",
    "    \"OWS\",\"DWS\", \"WS\", \"WS/48\", \"OBPM\", \"DBPM\", \"BPM\", \"VORP\"]] = df[[\"Rk\", \"Age\",\"G\",\"MP\", \"PER\", \"TS%\", \"3PAr\", \"FTr\", \"ORB%\", \"DRB%\", \"TRB%\", \"AST%\", \"STL%\", \"BLK%\", \"TOV%\", \"USG%\", \n",
    "    \"OWS\",\"DWS\", \"WS\", \"WS/48\", \"OBPM\", \"DBPM\", \"BPM\", \"VORP\"]].apply(pd.to_numeric)"
   ]
  },
  {
   "cell_type": "code",
   "execution_count": null,
   "metadata": {},
   "outputs": [],
   "source": [
    "df['WS'].max()"
   ]
  },
  {
   "cell_type": "code",
   "execution_count": null,
   "metadata": {},
   "outputs": [],
   "source": [
    "df['WS'].min()"
   ]
  },
  {
   "cell_type": "code",
   "execution_count": null,
   "metadata": {},
   "outputs": [],
   "source": []
  },
  {
   "cell_type": "code",
   "execution_count": null,
   "metadata": {
    "scrolled": true
   },
   "outputs": [],
   "source": []
  },
  {
   "cell_type": "code",
   "execution_count": null,
   "metadata": {},
   "outputs": [],
   "source": []
  },
  {
   "cell_type": "code",
   "execution_count": null,
   "metadata": {},
   "outputs": [],
   "source": []
  }
 ],
 "metadata": {
  "kernelspec": {
   "display_name": "Python 3",
   "language": "python",
   "name": "python3"
  },
  "language_info": {
   "codemirror_mode": {
    "name": "ipython",
    "version": 3
   },
   "file_extension": ".py",
   "mimetype": "text/x-python",
   "name": "python",
   "nbconvert_exporter": "python",
   "pygments_lexer": "ipython3",
   "version": "3.7.1"
  }
 },
 "nbformat": 4,
 "nbformat_minor": 2
}
